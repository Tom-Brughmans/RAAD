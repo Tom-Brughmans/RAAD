{
 "cells": [
  {
   "cell_type": "markdown",
   "metadata": {},
   "source": [
    "# Case study 5: Augustan military sites"
   ]
  },
  {
   "cell_type": "markdown",
   "metadata": {},
   "source": [
    "## Contents \n",
    "1. [<span style=\"color:black\">Import packages</span>](#1) <a id=\"one\"></a>  \n",
    "2. [<span style=\"color:black\">Read in data</span>](#2)  <a id=\"two\"></a>  \n",
    "3. [<span style=\"color:black\">Frequency: type and site dates</span>](#3) <a id=\"three\"></a>  \n",
    "4. [<span style=\"color:black\">Count of sites: type and site dates</span>](#4)  <a id=\"four\"></a>   \n",
    "5. [<span style=\"color:black\">Count of RAAD types: type and site dates</span>](#5)  <a id=\"five\"></a>  \n",
    "6. [<span style=\"color:black\">Plot line graphs</span>](#6) <a id=\"six\"></a>  "
   ]
  },
  {
   "cell_type": "markdown",
   "metadata": {},
   "source": [
    "### [<span style=\"color:black\">1. Import packages</span>](#one) <a id=\"1\"></a> "
   ]
  },
  {
   "cell_type": "code",
   "execution_count": 1,
   "metadata": {},
   "outputs": [],
   "source": [
    "import sys\n",
    "\n",
    "sys.path.append(\"../../src\")\n",
    "import pandas as pd\n",
    "import seaborn as sns\n",
    "import matplotlib.pyplot as plt\n",
    "from matplotlib.ticker import FormatStrFormatter\n",
    "from calculation import year_object_count_df, sum_freq_per_year, year_freq_df\n",
    "from plot import plot_graph "
   ]
  },
  {
   "cell_type": "markdown",
   "metadata": {},
   "source": [
    "### [<span style=\"color:black\">2. Read in data</span>](#two)  <a id=\"2\"></a>"
   ]
  },
  {
   "cell_type": "code",
   "execution_count": 2,
   "metadata": {},
   "outputs": [],
   "source": [
    "data = pd.read_csv(\"../data/RAAD_data_restructured.csv\")\n",
    "data[\"origin_h2\"] = data[\"origin_h2\"].fillna('')\n",
    "data = data[(data[\"site_name_modern\"] == \"anreppen\") | (data[\"site_name_modern\"] == \"dangstetten\") | (data[\"site_name_modern\"] == \"hˆchst\") | (data[\"site_name_modern\"] == \"neuss camp 1\") | (data[\"site_name_modern\"] == \"neuss camp 2\") | (data[\"site_name_modern\"] == \"neuss camp 3\") | (data[\"site_name_modern\"] == \"neuss camp 4\") | (data[\"site_name_modern\"] == \"oberaden\") | (data[\"site_name_modern\"] == \"rˆdgen\") | (data[\"site_name_modern\"] == \"waldgirmes\")]"
   ]
  },
  {
   "cell_type": "code",
   "execution_count": 3,
   "metadata": {},
   "outputs": [],
   "source": [
    "start_dates = [\"raad_type_start_date\", \"site_start_date\"]\n",
    "end_dates = [\"raad_type_end_date\", \"site_end_date\"]\n",
    "\n",
    "freq_dates = {}\n",
    "site_count_dates = {}\n",
    "form_count_dates = {}\n",
    "\n",
    "list_of_dfs = []"
   ]
  },
  {
   "cell_type": "markdown",
   "metadata": {},
   "source": [
    "### [<span style=\"color:black\">3. Frequency: type and site dates</span>](#three) <a id=\"3\"></a>"
   ]
  },
  {
   "cell_type": "code",
   "execution_count": 4,
   "metadata": {},
   "outputs": [],
   "source": [
    "for start, end in zip(start_dates, end_dates):\n",
    "\n",
    "    df = data.groupby([\"RAAD_form\", start, end])[\"frequency\"].sum()\n",
    "    df = df.reset_index()\n",
    "    df = df.rename(columns = {\"frequency\":\"summed_freq\"})\n",
    "\n",
    "    df1 = sum_freq_per_year(data = df,\n",
    "                            sum_freq = \"summed_freq\",\n",
    "                            lower_date = start,\n",
    "                            upper_date = end)\n",
    "\n",
    "    freq = year_freq_df(data = df1,     \n",
    "                        lower_date =  start,\n",
    "                        upper_date = end,\n",
    "                        sum_freq = \"Sum_freq_per_year\")   \n",
    "    \n",
    "    if \"raad\" in start or \"raad\" in end: \n",
    "        key = \"Type dates\"  \n",
    "    else:\n",
    "        key = \"Site dates\" \n",
    "    freq_dates[key] = freq\n",
    "        \n",
    "list_of_dfs.append(freq_dates)"
   ]
  },
  {
   "cell_type": "markdown",
   "metadata": {},
   "source": [
    "### [<span style=\"color:black\">4. Count of sites: type and site dates</span>](#four) <a id=\"4\"></a>  "
   ]
  },
  {
   "cell_type": "code",
   "execution_count": 5,
   "metadata": {},
   "outputs": [],
   "source": [
    "for start, end in zip(start_dates, end_dates):\n",
    "\n",
    "    df = data.groupby([\"RAAD_form\", start, end])[\"site_name_modern\"].apply(lambda x: \",\".join(x))\n",
    "    df = df.apply(lambda x: x.split(','))\n",
    "    df = df.reset_index()\n",
    "    df = df.rename(columns = {\"site_name_modern\":\"List_of_sites\"})\n",
    "    \n",
    "    count_values = year_object_count_df(data = df, \n",
    "                                        lower_date = start,  \n",
    "                                        upper_date = end,\n",
    "                                        object_list = \"List_of_sites\") \n",
    "\n",
    "    if \"raad\" in start or \"raad\" in end: \n",
    "        key = \"Type dates\"  \n",
    "    else:\n",
    "        key = \"Site dates\" \n",
    "    site_count_dates[key] = count_values\n",
    "        \n",
    "list_of_dfs.append(site_count_dates)  "
   ]
  },
  {
   "cell_type": "markdown",
   "metadata": {},
   "source": [
    "### [<span style=\"color:black\">5. Count of RAAD types: type and site dates</span>](#five) <a id=\"5\"></a>"
   ]
  },
  {
   "cell_type": "code",
   "execution_count": 6,
   "metadata": {},
   "outputs": [],
   "source": [
    "for start, end in zip(start_dates, end_dates):\n",
    "    df = data.groupby([\"RAAD_form\", start, end])[\"RAAD_type_number\"].apply(list)\n",
    "    df = df.reset_index()\n",
    "    df = df.rename(columns = {\"RAAD_type_number\":\"List_of_numbers\"})\n",
    "    \n",
    "    num_count = year_object_count_df(data = df,  \n",
    "                                     lower_date = start,  \n",
    "                                     upper_date = end,\n",
    "                                     object_list = \"List_of_numbers\")  \n",
    "\n",
    "    if \"raad\" in start or \"raad\" in end: \n",
    "        key = \"Type dates\"  \n",
    "    else:\n",
    "        key = \"Site dates\" \n",
    "    form_count_dates[key] = num_count\n",
    "        \n",
    "list_of_dfs.append(form_count_dates)   "
   ]
  },
  {
   "cell_type": "markdown",
   "metadata": {},
   "source": [
    "### [<span style=\"color:black\">6. Plot line graphs</span>](#six) <a id=\"6\"></a>"
   ]
  },
  {
   "cell_type": "code",
   "execution_count": 8,
   "metadata": {},
   "outputs": [
    {
     "name": "stderr",
     "output_type": "stream",
     "text": [
      "/tmp/ipykernel_33012/78758295.py:18: UserWarning: FixedFormatter should only be used together with FixedLocator\n",
      "  ax.set_xticklabels([int(i) if i != 0 else 1 for i in ax.get_xticks()])\n",
      "/tmp/ipykernel_33012/78758295.py:18: UserWarning: FixedFormatter should only be used together with FixedLocator\n",
      "  ax.set_xticklabels([int(i) if i != 0 else 1 for i in ax.get_xticks()])\n",
      "/tmp/ipykernel_33012/78758295.py:18: UserWarning: FixedFormatter should only be used together with FixedLocator\n",
      "  ax.set_xticklabels([int(i) if i != 0 else 1 for i in ax.get_xticks()])\n"
     ]
    },
    {
     "data": {
      "image/png": "[encoded data removed]",
      "text/plain": [
       "<Figure size 1440x360 with 3 Axes>"
      ]
     },
     "metadata": {},
     "output_type": "display_data"
    }
   ],
   "source": [
    "sns.set_style(\"white\", {\"font.family\":\"serif\", \"font.serif\":\"Times New Roman\"}) \n",
    "fig, axs = plt.subplots(1, 3, figsize=(20, 5))\n",
    "\n",
    "axs[0].set_xlim([-250, 700])\n",
    "axs[1].set_xlim([-250, 700])\n",
    "axs[2].set_xlim([-250, 700])\n",
    "\n",
    "for ax, df in zip(axs.ravel(), list_of_dfs):\n",
    "    plot_graph(dicts_of_df = df,\n",
    "               palette=[\"black\", \"green\"],\n",
    "               ax = ax,\n",
    "               linewidth = 2)\n",
    "\n",
    "    ax.set_ylim(0, None)\n",
    "    ax.yaxis.set_major_formatter(FormatStrFormatter(\"%.0f\"))  \n",
    "    ax.set_xlabel(None)\n",
    "    ax.get_legend().remove()\n",
    "    ax.set_xticklabels([int(i) if i != 0 else 1 for i in ax.get_xticks()])\n",
    "    handles, labels = ax.get_legend_handles_labels() \n",
    "    fig.legend(handles, labels, bbox_to_anchor=(0.99, 0.96), fontsize = 10)\n",
    "\n",
    "axs[2].set_ylabel(\"Type count\")\n",
    "fig.supxlabel(\"Year\")\n",
    "\n",
    "axs[0].text(-215, 530, \"A\", fontsize = 25)\n",
    "axs[1].text(-215, 9.4, \"B\", fontsize = 25)\n",
    "axs[2].text(-215, 65, \"C\", fontsize = 25)\n",
    "\n",
    "plt.tight_layout()\n",
    "plt.savefig(\"Figs/Fig10.tiff\", bbox_inches=\"tight\", format = \"tiff\", dpi = 400)"
   ]
  }
 ],
 "metadata": {
  "kernelspec": {
   "display_name": "Python 3.8.10 ('myproject-o7xzvy_i')",
   "language": "python",
   "name": "python3"
  },
  "language_info": {
   "codemirror_mode": {
    "name": "ipython",
    "version": 3
   },
   "file_extension": ".py",
   "mimetype": "text/x-python",
   "name": "python",
   "nbconvert_exporter": "python",
   "pygments_lexer": "ipython3",
   "version": "3.8.10"
  },
  "orig_nbformat": 4,
  "vscode": {
   "interpreter": {
    "hash": "c7f344db0e561ee441066de879d73e8a6881361abdcab087cf1026d0105d7860"
   }
  }
 },
 "nbformat": 4,
 "nbformat_minor": 2
}
